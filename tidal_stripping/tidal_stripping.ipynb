{
 "cells": [
  {
   "cell_type": "markdown",
   "metadata": {},
   "source": [
    "# Tidal Stripping"
   ]
  },
  {
   "cell_type": "markdown",
   "metadata": {},
   "source": [
    "Tidal stripping is an astrophysical phenomenon which occurs when galaxies come within gravitationally significant distances. The galaxy of larger mass will significantly influence the stars of the other galaxy, sometimes removing or capturing them.\n",
    "\n",
    "With a few simplifying assumptions and knowledge of the solution to the two-body problem, tidal stripping can be simulated accurately enough to explore the phenomenon. Firstly, we assume Newtonian mechanics, which means bodies in the presence of two gravitational fields will travel in ellipses, which we can numerically solve for quite easily. Next let us consider the gravitational field of the galaxies to dominate those of the individual stars. Thus our stars become test particles only under the influence of two gravitational fields.\n",
    "\n",
    "Running our program with default settings we have,"
   ]
  },
  {
   "cell_type": "code",
   "execution_count": 1,
   "metadata": {},
   "outputs": [],
   "source": [
    "from IPython.display import HTML"
   ]
  },
  {
   "cell_type": "code",
   "execution_count": 3,
   "metadata": {},
   "outputs": [
    {
     "data": {
      "text/html": [
       "\n",
       "    <video alt=\"tidal stripping movie\" controls>\n",
       "        <source src=\"movie.mp4\" type=\"video/mp4\">\n",
       "    </video>\n"
      ],
      "text/plain": [
       "<IPython.core.display.HTML object>"
      ]
     },
     "execution_count": 3,
     "metadata": {},
     "output_type": "execute_result"
    }
   ],
   "source": [
    "HTML(\"\"\"\n",
    "    <video alt=\"tidal stripping movie\" controls>\n",
    "        <source src=\"movie.mp4\" type=\"video/mp4\">\n",
    "    </video>\n",
    "\"\"\")"
   ]
  },
  {
   "cell_type": "markdown",
   "metadata": {},
   "source": [
    "Here the blue galaxy has 1 mass unit and the red galaxy, 0.2 mass units. At first the two galaxies seem to orbit each other peacefully until at about 4 seconds the stars of the second (red) galaxy go haywire, flying off in varying directions. By five seconds one can make out two arms extending outward from galaxy two."
   ]
  },
  {
   "cell_type": "code",
   "execution_count": 5,
   "metadata": {},
   "outputs": [
    {
     "data": {
      "text/html": [
       "\n",
       "    <img alt=\"tail\" source src=\"snapshot_0.jpg\">\n",
       "    </img>\n"
      ],
      "text/plain": [
       "<IPython.core.display.HTML object>"
      ]
     },
     "execution_count": 5,
     "metadata": {},
     "output_type": "execute_result"
    }
   ],
   "source": [
    "HTML(\"\"\"\n",
    "    <img alt=\"arms\" source src=\"snapshot_0.jpg\">\n",
    "    </img>\n",
    "\"\"\")"
   ]
  },
  {
   "cell_type": "markdown",
   "metadata": {},
   "source": [
    "Quickly afterwards many of red's stars are engulfed and captured by galaxy one (blue). Also notice how at three seconds, before red loses any of its stars, that red's stars are orbiting with much higher eccentricity, so that the whole galaxy has become more elliptical, that is, squashed in one axis."
   ]
  },
  {
   "cell_type": "code",
   "execution_count": 8,
   "metadata": {},
   "outputs": [
    {
     "data": {
      "text/html": [
       "\n",
       "    <img alt=\"squashed\" source src=\"snapshot_1.jpg\">\n",
       "    </img>\n"
      ],
      "text/plain": [
       "<IPython.core.display.HTML object>"
      ]
     },
     "execution_count": 8,
     "metadata": {},
     "output_type": "execute_result"
    }
   ],
   "source": [
    "HTML(\"\"\"\n",
    "    <img alt=\"squashed\" source src=\"snapshot_1.jpg\">\n",
    "    </img>\n",
    "\"\"\")"
   ]
  },
  {
   "cell_type": "markdown",
   "metadata": {},
   "source": [
    "Similar to the formation of 'arms' alluded to previously, galaxies that undergo tidal forces from neighbouring galaxies may form tidal tails. These tails may be present long after the galaxies passed by each other or merged."
   ]
  },
  {
   "cell_type": "code",
   "execution_count": 8,
   "metadata": {
    "scrolled": false
   },
   "outputs": [
    {
     "data": {
      "text/html": [
       "\n",
       "    <img alt=\"tail\" source src=\"tidaltails3a.jpg\">\n",
       "    </img>\n"
      ],
      "text/plain": [
       "<IPython.core.display.HTML object>"
      ]
     },
     "execution_count": 8,
     "metadata": {},
     "output_type": "execute_result"
    }
   ],
   "source": [
    "HTML(\"\"\"\n",
    "    <img alt=\"tail\" source src=\"tidaltails3a.jpg\">\n",
    "    </img>\n",
    "\"\"\")"
   ]
  },
  {
   "cell_type": "markdown",
   "metadata": {},
   "source": [
    "Let's see if we can produce a tidal tail artifact with out simulation. We can vary both the mass and speed (in the direction of the y-axis) of galaxy two. Considering the many symmetries of our setup, this allows us to model most encounters."
   ]
  },
  {
   "cell_type": "code",
   "execution_count": null,
   "metadata": {},
   "outputs": [],
   "source": []
  }
 ],
 "metadata": {
  "kernelspec": {
   "display_name": "Python 3",
   "language": "python",
   "name": "python3"
  },
  "language_info": {
   "codemirror_mode": {
    "name": "ipython",
    "version": 3
   },
   "file_extension": ".py",
   "mimetype": "text/x-python",
   "name": "python",
   "nbconvert_exporter": "python",
   "pygments_lexer": "ipython3",
   "version": "3.6.8"
  }
 },
 "nbformat": 4,
 "nbformat_minor": 2
}
